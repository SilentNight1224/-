{
 "cells": [
  {
   "cell_type": "code",
   "execution_count": 2,
   "metadata": {},
   "outputs": [],
   "source": [
    "import tensorflow as tf\n",
    "import keras as k"
   ]
  },
  {
   "cell_type": "code",
   "execution_count": 3,
   "metadata": {},
   "outputs": [
    {
     "data": {
      "text/plain": [
       "'2.2.0'"
      ]
     },
     "execution_count": 3,
     "metadata": {},
     "output_type": "execute_result"
    }
   ],
   "source": [
    "tf.__version__"
   ]
  },
  {
   "cell_type": "code",
   "execution_count": 4,
   "metadata": {},
   "outputs": [
    {
     "name": "stdout",
     "output_type": "stream",
     "text": [
      "/device:GPU:0\n"
     ]
    }
   ],
   "source": [
    "gpu_device_name = tf.test.gpu_device_name()\n",
    "print(gpu_device_name)"
   ]
  },
  {
   "cell_type": "code",
   "execution_count": 5,
   "metadata": {},
   "outputs": [
    {
     "data": {
      "text/plain": [
       "'2.4.3'"
      ]
     },
     "execution_count": 5,
     "metadata": {},
     "output_type": "execute_result"
    }
   ],
   "source": [
    "k.__version__"
   ]
  },
  {
   "cell_type": "code",
   "execution_count": 7,
   "metadata": {},
   "outputs": [],
   "source": [
    "import pandas as pd\n",
    "data = data = pd.read_csv(\"Advertising.csv\")\n",
    "x = data.iloc[:,1:-1]\n",
    "y = data.iloc[:,-1]"
   ]
  },
  {
   "cell_type": "code",
   "execution_count": 12,
   "metadata": {},
   "outputs": [
    {
     "name": "stdout",
     "output_type": "stream",
     "text": [
      "Model: \"sequential\"\n",
      "_________________________________________________________________\n",
      "Layer (type)                 Output Shape              Param #   \n",
      "=================================================================\n",
      "dense (Dense)                (None, 10)                40        \n",
      "_________________________________________________________________\n",
      "dense_1 (Dense)              (None, 1)                 11        \n",
      "=================================================================\n",
      "Total params: 51\n",
      "Trainable params: 51\n",
      "Non-trainable params: 0\n",
      "_________________________________________________________________\n",
      "None\n"
     ]
    }
   ],
   "source": [
    "k.backend.clear_session()\n",
    "# 构建序列模型，可以在创建对象时就指定层数，这样就无需用add方法\n",
    "model = tf.keras.Sequential(\n",
    "    [   # 第一层：Dense隐藏层，自定义单元个数为10,输入数据为3维,且用relu作为激活\n",
    "        tf.keras.layers.Dense(10,input_shape=(3,),activation=\"relu\"),\n",
    "        # 第二层：Dense输出层，单元个数为1(因为output：sale本身就是1维)\n",
    "        tf.keras.layers.Dense(1)\n",
    "    ] \n",
    ")\n",
    "info = model.summary()  #可查看当前模型信息\n",
    "print(info)"
   ]
  },
  {
   "cell_type": "code",
   "execution_count": 13,
   "metadata": {},
   "outputs": [
    {
     "name": "stdout",
     "output_type": "stream",
     "text": [
      "Epoch 1/100\n",
      "7/7 [==============================] - 0s 7ms/step - loss: 1704.0486\n",
      "Epoch 2/100\n",
      "7/7 [==============================] - 0s 8ms/step - loss: 1388.5051\n",
      "Epoch 3/100\n",
      "7/7 [==============================] - 0s 7ms/step - loss: 1129.0192\n",
      "Epoch 4/100\n",
      "7/7 [==============================] - 0s 6ms/step - loss: 909.2916\n",
      "Epoch 5/100\n",
      "7/7 [==============================] - 0s 6ms/step - loss: 717.0673\n",
      "Epoch 6/100\n",
      "7/7 [==============================] - 0s 6ms/step - loss: 564.5081\n",
      "Epoch 7/100\n",
      "7/7 [==============================] - 0s 6ms/step - loss: 445.0218\n",
      "Epoch 8/100\n",
      "7/7 [==============================] - 0s 9ms/step - loss: 355.1912\n",
      "Epoch 9/100\n",
      "7/7 [==============================] - 0s 8ms/step - loss: 285.5787\n",
      "Epoch 10/100\n",
      "7/7 [==============================] - 0s 6ms/step - loss: 237.5878\n",
      "Epoch 11/100\n",
      "7/7 [==============================] - 0s 7ms/step - loss: 204.7560\n",
      "Epoch 12/100\n",
      "7/7 [==============================] - 0s 6ms/step - loss: 181.4376\n",
      "Epoch 13/100\n",
      "7/7 [==============================] - 0s 10ms/step - loss: 166.5358\n",
      "Epoch 14/100\n",
      "7/7 [==============================] - 0s 7ms/step - loss: 157.2417\n",
      "Epoch 15/100\n",
      "7/7 [==============================] - 0s 8ms/step - loss: 149.9899\n",
      "Epoch 16/100\n",
      "7/7 [==============================] - 0s 7ms/step - loss: 145.0875\n",
      "Epoch 17/100\n",
      "7/7 [==============================] - 0s 6ms/step - loss: 140.8613\n",
      "Epoch 18/100\n",
      "7/7 [==============================] - 0s 7ms/step - loss: 137.1362\n",
      "Epoch 19/100\n",
      "7/7 [==============================] - 0s 6ms/step - loss: 133.8167\n",
      "Epoch 20/100\n",
      "7/7 [==============================] - 0s 5ms/step - loss: 130.8521\n",
      "Epoch 21/100\n",
      "7/7 [==============================] - 0s 6ms/step - loss: 127.8787\n",
      "Epoch 22/100\n",
      "7/7 [==============================] - 0s 6ms/step - loss: 125.0216\n",
      "Epoch 23/100\n",
      "7/7 [==============================] - 0s 5ms/step - loss: 122.0652\n",
      "Epoch 24/100\n",
      "7/7 [==============================] - 0s 7ms/step - loss: 119.1550\n",
      "Epoch 25/100\n",
      "7/7 [==============================] - 0s 9ms/step - loss: 116.5287\n",
      "Epoch 26/100\n",
      "7/7 [==============================] - 0s 9ms/step - loss: 113.8383\n",
      "Epoch 27/100\n",
      "7/7 [==============================] - 0s 6ms/step - loss: 111.2481\n",
      "Epoch 28/100\n",
      "7/7 [==============================] - 0s 7ms/step - loss: 108.4427\n",
      "Epoch 29/100\n",
      "7/7 [==============================] - 0s 6ms/step - loss: 106.0242\n",
      "Epoch 30/100\n",
      "7/7 [==============================] - 0s 8ms/step - loss: 103.4370\n",
      "Epoch 31/100\n",
      "7/7 [==============================] - 0s 6ms/step - loss: 101.1121\n",
      "Epoch 32/100\n",
      "7/7 [==============================] - 0s 6ms/step - loss: 98.4288\n",
      "Epoch 33/100\n",
      "7/7 [==============================] - 0s 6ms/step - loss: 95.9229\n",
      "Epoch 34/100\n",
      "7/7 [==============================] - 0s 6ms/step - loss: 93.1979\n",
      "Epoch 35/100\n",
      "7/7 [==============================] - 0s 6ms/step - loss: 90.9331\n",
      "Epoch 36/100\n",
      "7/7 [==============================] - 0s 6ms/step - loss: 88.2593\n",
      "Epoch 37/100\n",
      "7/7 [==============================] - 0s 6ms/step - loss: 85.7457\n",
      "Epoch 38/100\n",
      "7/7 [==============================] - 0s 6ms/step - loss: 83.0847\n",
      "Epoch 39/100\n",
      "7/7 [==============================] - 0s 6ms/step - loss: 80.5082\n",
      "Epoch 40/100\n",
      "7/7 [==============================] - 0s 6ms/step - loss: 77.6588\n",
      "Epoch 41/100\n",
      "7/7 [==============================] - 0s 7ms/step - loss: 74.9996\n",
      "Epoch 42/100\n",
      "7/7 [==============================] - 0s 6ms/step - loss: 72.1130\n",
      "Epoch 43/100\n",
      "7/7 [==============================] - 0s 7ms/step - loss: 69.4299\n",
      "Epoch 44/100\n",
      "7/7 [==============================] - 0s 9ms/step - loss: 66.5863\n",
      "Epoch 45/100\n",
      "7/7 [==============================] - 0s 7ms/step - loss: 64.0009\n",
      "Epoch 46/100\n",
      "7/7 [==============================] - 0s 6ms/step - loss: 61.0659\n",
      "Epoch 47/100\n",
      "7/7 [==============================] - 0s 7ms/step - loss: 58.0714\n",
      "Epoch 48/100\n",
      "7/7 [==============================] - 0s 7ms/step - loss: 55.1061\n",
      "Epoch 49/100\n",
      "7/7 [==============================] - 0s 7ms/step - loss: 52.2119\n",
      "Epoch 50/100\n",
      "7/7 [==============================] - 0s 6ms/step - loss: 49.1937\n",
      "Epoch 51/100\n",
      "7/7 [==============================] - 0s 6ms/step - loss: 46.3139\n",
      "Epoch 52/100\n",
      "7/7 [==============================] - 0s 6ms/step - loss: 43.5718\n",
      "Epoch 53/100\n",
      "7/7 [==============================] - 0s 6ms/step - loss: 41.2410\n",
      "Epoch 54/100\n",
      "7/7 [==============================] - 0s 6ms/step - loss: 39.1680\n",
      "Epoch 55/100\n",
      "7/7 [==============================] - 0s 6ms/step - loss: 37.3202\n",
      "Epoch 56/100\n",
      "7/7 [==============================] - 0s 7ms/step - loss: 35.2248\n",
      "Epoch 57/100\n",
      "7/7 [==============================] - 0s 6ms/step - loss: 33.5006\n",
      "Epoch 58/100\n",
      "7/7 [==============================] - 0s 7ms/step - loss: 32.0019\n",
      "Epoch 59/100\n",
      "7/7 [==============================] - 0s 6ms/step - loss: 30.5775\n",
      "Epoch 60/100\n",
      "7/7 [==============================] - 0s 6ms/step - loss: 29.2611\n",
      "Epoch 61/100\n",
      "7/7 [==============================] - 0s 6ms/step - loss: 28.2426\n",
      "Epoch 62/100\n",
      "7/7 [==============================] - 0s 9ms/step - loss: 27.0452\n",
      "Epoch 63/100\n",
      "7/7 [==============================] - 0s 10ms/step - loss: 26.0255\n",
      "Epoch 64/100\n",
      "7/7 [==============================] - 0s 10ms/step - loss: 24.8546\n",
      "Epoch 65/100\n",
      "7/7 [==============================] - 0s 10ms/step - loss: 23.8886\n",
      "Epoch 66/100\n",
      "7/7 [==============================] - 0s 8ms/step - loss: 22.9352\n",
      "Epoch 67/100\n",
      "7/7 [==============================] - 0s 6ms/step - loss: 22.0718\n",
      "Epoch 68/100\n",
      "7/7 [==============================] - 0s 6ms/step - loss: 21.1745\n",
      "Epoch 69/100\n",
      "7/7 [==============================] - 0s 6ms/step - loss: 20.2844\n",
      "Epoch 70/100\n",
      "7/7 [==============================] - 0s 7ms/step - loss: 19.5264\n",
      "Epoch 71/100\n",
      "7/7 [==============================] - 0s 6ms/step - loss: 18.6631\n",
      "Epoch 72/100\n",
      "7/7 [==============================] - 0s 7ms/step - loss: 17.9369\n",
      "Epoch 73/100\n",
      "7/7 [==============================] - 0s 7ms/step - loss: 17.1572\n",
      "Epoch 74/100\n",
      "7/7 [==============================] - 0s 6ms/step - loss: 16.4689\n",
      "Epoch 75/100\n",
      "7/7 [==============================] - 0s 8ms/step - loss: 15.8208\n",
      "Epoch 76/100\n",
      "7/7 [==============================] - 0s 8ms/step - loss: 15.1950\n",
      "Epoch 77/100\n",
      "7/7 [==============================] - 0s 7ms/step - loss: 14.6228\n",
      "Epoch 78/100\n",
      "7/7 [==============================] - 0s 7ms/step - loss: 14.0178\n",
      "Epoch 79/100\n",
      "7/7 [==============================] - 0s 6ms/step - loss: 13.4272\n",
      "Epoch 80/100\n",
      "7/7 [==============================] - 0s 6ms/step - loss: 12.8381\n",
      "Epoch 81/100\n",
      "7/7 [==============================] - 0s 6ms/step - loss: 12.2827\n",
      "Epoch 82/100\n",
      "7/7 [==============================] - 0s 11ms/step - loss: 11.7540\n",
      "Epoch 83/100\n",
      "7/7 [==============================] - 0s 9ms/step - loss: 11.2342\n",
      "Epoch 84/100\n",
      "7/7 [==============================] - 0s 7ms/step - loss: 10.7228\n",
      "Epoch 85/100\n",
      "7/7 [==============================] - 0s 6ms/step - loss: 10.3025\n",
      "Epoch 86/100\n",
      "7/7 [==============================] - 0s 6ms/step - loss: 9.8526\n",
      "Epoch 87/100\n",
      "7/7 [==============================] - 0s 7ms/step - loss: 9.3900\n",
      "Epoch 88/100\n",
      "7/7 [==============================] - 0s 7ms/step - loss: 8.9962\n",
      "Epoch 89/100\n",
      "7/7 [==============================] - 0s 6ms/step - loss: 8.6305\n",
      "Epoch 90/100\n",
      "7/7 [==============================] - 0s 5ms/step - loss: 8.2456\n",
      "Epoch 91/100\n",
      "7/7 [==============================] - 0s 6ms/step - loss: 7.9178\n",
      "Epoch 92/100\n",
      "7/7 [==============================] - 0s 9ms/step - loss: 7.5906\n",
      "Epoch 93/100\n",
      "7/7 [==============================] - 0s 6ms/step - loss: 7.3089\n",
      "Epoch 94/100\n",
      "7/7 [==============================] - 0s 7ms/step - loss: 7.0019\n",
      "Epoch 95/100\n",
      "7/7 [==============================] - 0s 6ms/step - loss: 6.7514\n",
      "Epoch 96/100\n",
      "7/7 [==============================] - 0s 5ms/step - loss: 6.4304\n",
      "Epoch 97/100\n",
      "7/7 [==============================] - 0s 6ms/step - loss: 6.1757\n",
      "Epoch 98/100\n",
      "7/7 [==============================] - 0s 6ms/step - loss: 5.9348\n",
      "Epoch 99/100\n",
      "7/7 [==============================] - 0s 6ms/step - loss: 5.7151\n",
      "Epoch 100/100\n",
      "7/7 [==============================] - 0s 7ms/step - loss: 5.4748\n"
     ]
    },
    {
     "data": {
      "text/plain": [
       "<tensorflow.python.keras.callbacks.History at 0x206c7de4108>"
      ]
     },
     "execution_count": 13,
     "metadata": {},
     "output_type": "execute_result"
    }
   ],
   "source": [
    "model.compile(optimizer=\"adam\",loss=\"mse\")\n",
    "model.fit(x=x,y=y,epochs=100)"
   ]
  },
  {
   "cell_type": "code",
   "execution_count": 18,
   "metadata": {},
   "outputs": [],
   "source": [
    "x_test = data.iloc[:10,1:-1]\n",
    "y_true = data.iloc[:10,-1]\n",
    "y_test = model.predict(x_test)"
   ]
  },
  {
   "cell_type": "code",
   "execution_count": 19,
   "metadata": {},
   "outputs": [
    {
     "data": {
      "image/png": "[encoded data removed]",
      "text/plain": [
       "<Figure size 640x480 with 1 Axes>"
      ]
     },
     "metadata": {},
     "output_type": "display_data"
    }
   ],
   "source": [
    "import matplotlib.pyplot as plt\n",
    "plt.figure()\n",
    "plt.plot(y_true)\n",
    "plt.plot(y_test)\n",
    "plt.show()"
   ]
  }
 ],
 "metadata": {
  "kernelspec": {
   "display_name": "Python 3.7.13 ('MSN')",
   "language": "python",
   "name": "python3"
  },
  "language_info": {
   "codemirror_mode": {
    "name": "ipython",
    "version": 3
   },
   "file_extension": ".py",
   "mimetype": "text/x-python",
   "name": "python",
   "nbconvert_exporter": "python",
   "pygments_lexer": "ipython3",
   "version": "3.7.13"
  },
  "orig_nbformat": 4,
  "vscode": {
   "interpreter": {
    "hash": "689ceeab68b6ac42b703cc3780888dba80d1bc5f3be90accd25912b847af6f80"
   }
  }
 },
 "nbformat": 4,
 "nbformat_minor": 2
}
